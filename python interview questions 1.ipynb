{
 "cells": [
  {
   "cell_type": "markdown",
   "id": "eb2a43b2-5f1f-41fa-a1ff-92054634dc00",
   "metadata": {},
   "source": [
    "# 1. finding common letter in both the strings"
   ]
  },
  {
   "cell_type": "code",
   "execution_count": 5,
   "id": "b50e6226-8807-44f7-8681-5b6cbae285c3",
   "metadata": {},
   "outputs": [
    {
     "name": "stdin",
     "output_type": "stream",
     "text": [
      "enter a first string reene\n",
      "enter a second string nasina\n"
     ]
    },
    {
     "name": "stdout",
     "output_type": "stream",
     "text": [
      "{'n'}\n"
     ]
    }
   ],
   "source": [
    "def commonletters():\n",
    "    str1=input(\"enter a first string\")\n",
    "    str2=input(\"enter a second string\")\n",
    "    s1=set(str1)\n",
    "    s2=set(str2)\n",
    "    lst=s1&s2\n",
    "    print(lst)\n",
    "\n",
    "commonletters()"
   ]
  },
  {
   "cell_type": "markdown",
   "id": "3efafd97-87a4-4f4d-9234-f2ee8f6c3023",
   "metadata": {},
   "source": [
    "# 2. count the frequemcy of words appear in a string"
   ]
  },
  {
   "cell_type": "code",
   "execution_count": 43,
   "id": "713a7ba7-7742-4d4e-b157-d3cf6c8d2c10",
   "metadata": {},
   "outputs": [
    {
     "name": "stdin",
     "output_type": "stream",
     "text": [
      "enter a first string sheena loves eating mango sheena eats mango every day\n"
     ]
    },
    {
     "name": "stdout",
     "output_type": "stream",
     "text": [
      "{'sheena': 3, 'loves': 2, 'eating': 2, 'mango': 3, 'eats': 2, 'every': 2, 'day': 2}\n"
     ]
    }
   ],
   "source": [
    "def freq_words():\n",
    "    str1=input(\"enter a first string\")\n",
    "    li=str1.split()\n",
    "    d={}\n",
    "        \n",
    "    for i in li:\n",
    "        if i not in d.keys():\n",
    "            d[i]=1\n",
    "        d[i]=d[i]+1    # d[i]=d.get(i,0)+1\n",
    "    print(d)\n",
    "\n",
    "\n",
    "freq_words()"
   ]
  },
  {
   "cell_type": "markdown",
   "id": "0133367e-12e4-4e1e-9948-00912ebd29f7",
   "metadata": {},
   "source": [
    "# 3.to convert two lists into dictionary"
   ]
  },
  {
   "cell_type": "code",
   "execution_count": 61,
   "id": "c8bf8df7-afb4-4721-aaf6-f3acc002276d",
   "metadata": {},
   "outputs": [
    {
     "name": "stdout",
     "output_type": "stream",
     "text": [
      "(1, 'one')\n",
      "(2, 'two')\n",
      "(3, 'three')\n"
     ]
    }
   ],
   "source": [
    "def list_to_dict():\n",
    "    key=[1,2,3]\n",
    "    values=[\"one\",\"two\",\"three\"]\n",
    "    result=dict(zip(key,values))\n",
    "result\n",
    "\n",
    "def list_to_tuple():\n",
    "    x={1: 'one', 2: 'two', 3: 'three'}\n",
    "    for i in x.items():\n",
    "        print(i)\n",
    "\n",
    "\n",
    "list_to_dict()\n",
    "list_to_tuple()"
   ]
  },
  {
   "cell_type": "code",
   "execution_count": 71,
   "id": "40a59331-3bd8-4392-bcc3-640652bf2b3b",
   "metadata": {},
   "outputs": [
    {
     "name": "stdout",
     "output_type": "stream",
     "text": [
      "3\n",
      "3\n"
     ]
    }
   ],
   "source": [
    "def get_sum_missing_number(a):\n",
    "    n=a[-1]\n",
    "    sum1=0\n",
    "    total_numbers=n*(n+1)//2\n",
    "    sum1=sum(a)\n",
    "    missing_number=total_numbers-sum1\n",
    "    print(missing_number)\n",
    "\n",
    "def get_sum_missing_number_using_xor(a):\n",
    "    n=len(a)\n",
    "    xor_a=a[0]\n",
    "    for index in range(1,n):\n",
    "        xor_a=xor_a^a[index]\n",
    "\n",
    "    x2=0\n",
    "    for index in range(1,n+2):\n",
    "        x2=x2^index\n",
    "\n",
    "    print(xor_a^x2)\n",
    "\n",
    "\n",
    "\n",
    "a=[1,2,4,5,6,7]\n",
    "get_sum_missing_number(a)\n",
    "get_sum_missing_number_using_xor(a)"
   ]
  },
  {
   "cell_type": "markdown",
   "id": "eb85f95c-9e28-49cc-a9f7-bd2243509110",
   "metadata": {},
   "source": [
    "# find out pairs with a given sum in an array in python of time complexity 0(nlogn)"
   ]
  },
  {
   "cell_type": "code",
   "execution_count": 84,
   "id": "3e44d693-7fe4-49c3-85a0-2bffcd04f120",
   "metadata": {},
   "outputs": [
    {
     "name": "stdout",
     "output_type": "stream",
     "text": [
      "values of pair are 8 & 9\n"
     ]
    }
   ],
   "source": [
    "def twosum(arr,sum):\n",
    "    arr.sort()\n",
    "    left=0\n",
    "    right=len(arr)-1\n",
    "    while(left<=right):\n",
    "        if(arr[left]+arr[right]>sum):\n",
    "            right=right-1\n",
    "        elif(arr[left]+arr[right]<sum):\n",
    "            left=left+1\n",
    "        elif(arr[left]+arr[right]==sum):\n",
    "            print(\"values of pair are\",arr[left],\"&\",arr[right])\n",
    "            right=right-1\n",
    "            left=left+1\n",
    "\n",
    "arr=[5,7,4,3,9,8,19,21]\n",
    "sum=17\n",
    "twosum(arr,sum)"
   ]
  },
  {
   "cell_type": "markdown",
   "id": "7627453f-bbab-483b-a852-7a4055aeefe9",
   "metadata": {},
   "source": [
    "# 4 . hight of binary tree (max Depth)"
   ]
  },
  {
   "cell_type": "code",
   "execution_count": 27,
   "id": "5a52dbdb-e89b-495d-8696-91a4848a6592",
   "metadata": {},
   "outputs": [
    {
     "name": "stdout",
     "output_type": "stream",
     "text": [
      "hight of binary tree (max depth):- 4\n"
     ]
    }
   ],
   "source": [
    "class Node:\n",
    "    def __init__(self, key):\n",
    "        self.data=key\n",
    "        self.left=None\n",
    "        self.right=None\n",
    "\n",
    "def height_tree(root):\n",
    "    if(root==None):\n",
    "        return 0\n",
    "    else:\n",
    "        \n",
    "        ldepth=height_tree(root.left)\n",
    "        \n",
    "        rdepth=height_tree(root.right)\n",
    "\n",
    "    if(ldepth>rdepth):\n",
    "        return (1+ldepth)\n",
    "    else:\n",
    "        return (1+rdepth)\n",
    "\n",
    "root=Node(1)\n",
    "root.left=Node(2)\n",
    "root.right=Node(3)\n",
    "root.left.left=Node(4)\n",
    "root.right.right=Node(5)\n",
    "root.left.left.left=Node(7)\n",
    "root.right.right.right=Node(6)\n",
    "\n",
    "print(\"hight of binary tree (max depth):-\",height_tree(root))\n",
    "\n"
   ]
  },
  {
   "cell_type": "markdown",
   "id": "c128b175-95d8-4364-9678-e217f0392051",
   "metadata": {},
   "source": [
    "# 5. min depth of a binary tree  "
   ]
  },
  {
   "cell_type": "code",
   "execution_count": 25,
   "id": "bbfb03f4-a130-43cc-b432-b8b587b7cd84",
   "metadata": {},
   "outputs": [
    {
     "name": "stdout",
     "output_type": "stream",
     "text": [
      "hight of binary tree (min depth):- 2\n"
     ]
    }
   ],
   "source": [
    "class Node:\n",
    "    def __init__(self, key):\n",
    "        self.data=key\n",
    "        self.left=None\n",
    "        self.right=None\n",
    "\n",
    "def height_tree(root):\n",
    "    if(root==None):\n",
    "        return 0\n",
    "    else:\n",
    "        \n",
    "        ldepth=height_tree(root.left)\n",
    "        \n",
    "        rdepth=height_tree(root.right)\n",
    "\n",
    "    if(ldepth>rdepth):\n",
    "       return (1+rdepth)\n",
    "    else:\n",
    "        return (1+ldepth)\n",
    "\n",
    "root=Node(1)\n",
    "root.left=Node(2)\n",
    "root.right=Node(3)\n",
    "root.left.left=Node(4)\n",
    "root.right.right=Node(5)\n",
    "root.left.left.left=Node(7)\n",
    "root.right.right.right=Node(6)\n",
    "\n",
    "print(\"hight of binary tree (min depth):-\",height_tree(root))\n"
   ]
  },
  {
   "cell_type": "markdown",
   "id": "27fd5c56-4873-4c75-a94e-5f32122a9cff",
   "metadata": {},
   "source": [
    "# 6. minimum differnce between two elements of an array"
   ]
  },
  {
   "cell_type": "code",
   "execution_count": 11,
   "id": "a7d416df-fe4e-4565-90ee-ea6118376366",
   "metadata": {},
   "outputs": [
    {
     "name": "stdout",
     "output_type": "stream",
     "text": [
      "minimum difference between the two elements of an aray is :- 4\n"
     ]
    }
   ],
   "source": [
    "def min_difference(arr):\n",
    "    arr=sorted(arr)\n",
    "    size=len(arr)\n",
    "    min_diff=9999*999\n",
    "\n",
    "    for i in range(0,size-1):\n",
    "        if (arr[i+1]-arr[i]<min_diff):\n",
    "            min_diff= arr[i+1]-arr[i]\n",
    "    return min_diff\n",
    "\n",
    "array=[5,32,45,89,76,36,23]\n",
    "min_difference(array)\n",
    "print(\"minimum difference between the two elements of an aray is :-\",min_difference(array))"
   ]
  },
  {
   "cell_type": "markdown",
   "id": "38871140-fee0-47a7-8bb2-fbbd553d6b91",
   "metadata": {},
   "source": [
    "# 7 Write a program to check if the given strings are anagram or not"
   ]
  },
  {
   "cell_type": "code",
   "execution_count": 16,
   "id": "b638a953-469c-4421-bff6-1e973631ac9d",
   "metadata": {},
   "outputs": [
    {
     "name": "stdin",
     "output_type": "stream",
     "text": [
      "Enter string1:  listen \n",
      "Enter string2:  siltent\n"
     ]
    },
    {
     "name": "stdout",
     "output_type": "stream",
     "text": [
      "The strings aren't anagrams.\n"
     ]
    }
   ],
   "source": [
    "def check(s1, s2):\n",
    "    \n",
    "    if(sorted(s1)== sorted(s2)):\n",
    "        print(\"The strings are anagrams.\")\n",
    "    else:\n",
    "        print(\"The strings aren't anagrams.\")        \n",
    "        \n",
    "s1 = input(\"Enter string1: \")\n",
    "# input1: \"listen\"\n",
    "s2 = input(\"Enter string2: \")\n",
    "# input2: \"silent\"\n",
    "check(s1, s2)\n",
    "\n"
   ]
  },
  {
   "cell_type": "markdown",
   "id": "d1325109-8fa0-42ee-a18e-ae73586ee365",
   "metadata": {},
   "source": [
    "# 8 Write a program to check if the given number is palindrome or not"
   ]
  },
  {
   "cell_type": "code",
   "execution_count": 21,
   "id": "10bf3f26-c0b9-4137-8e04-401f4d0ad487",
   "metadata": {},
   "outputs": [
    {
     "name": "stdin",
     "output_type": "stream",
     "text": [
      "Enter a number:  123321\n"
     ]
    },
    {
     "name": "stdout",
     "output_type": "stream",
     "text": [
      "Palindrome\n"
     ]
    }
   ],
   "source": [
    "num = int(input(\"Enter a number: \"))\n",
    "# Input: 12321\n",
    "temp = num\n",
    "reverse = 0\n",
    "while temp > 0:\n",
    "    remainder = temp % 10\n",
    "    reverse = (reverse * 10) + remainder\n",
    "    temp = temp // 10\n",
    "if num == reverse:\n",
    "  print('Palindrome')\n",
    "else:\n",
    "  print(\"Not Palindrome\")"
   ]
  },
  {
   "cell_type": "markdown",
   "id": "86e90c51-44b8-475e-ba54-fccc4b4b82fd",
   "metadata": {},
   "source": [
    "# 9 write a program for fibonacci series "
   ]
  },
  {
   "cell_type": "code",
   "execution_count": 28,
   "id": "3fe37deb-a480-49cb-a0dd-bb8609997ac3",
   "metadata": {},
   "outputs": [
    {
     "name": "stdout",
     "output_type": "stream",
     "text": [
      "[0, 1, 1, 2, 3, 5, 8, 13, 21, 34]\n"
     ]
    }
   ],
   "source": [
    "# Function to generate Fibonacci series up to 'n' terms\n",
    "def fibonacci(n):\n",
    "    fib_series = []\n",
    "    a, b = 0, 1\n",
    "    for _ in range(n):\n",
    "        fib_series.append(a)\n",
    "        a, b = b, a + b\n",
    "    return fib_series\n",
    "\n",
    "# Example usage\n",
    "n = 10  # Number of terms in the series\n",
    "print(fibonacci(n))\n"
   ]
  },
  {
   "cell_type": "code",
   "execution_count": 23,
   "id": "91a16d05-b37e-4a0c-a8c8-4b37e56ad902",
   "metadata": {},
   "outputs": [
    {
     "name": "stdin",
     "output_type": "stream",
     "text": [
      "enter the number 5\n"
     ]
    },
    {
     "name": "stdout",
     "output_type": "stream",
     "text": [
      "0\n",
      "1\n",
      "1\n",
      "2\n",
      "3\n"
     ]
    }
   ],
   "source": [
    "def recur_fibo(n):\n",
    "    if n<=1:\n",
    "       return n \n",
    "    else:\n",
    "        return recur_fibo(n-1)+recur_fibo(n-2)\n",
    "\n",
    "n=int(input(\"enter the number\"))\n",
    "\n",
    "for i in range(n):\n",
    "        print(recur_fibo(i))"
   ]
  },
  {
   "cell_type": "markdown",
   "id": "075630df-0ca9-43c8-86f5-9d1d0f6d3c99",
   "metadata": {},
   "source": [
    "# 10 find the gcd of two numbers "
   ]
  },
  {
   "cell_type": "code",
   "execution_count": 39,
   "id": "15ad8e15-247a-4cef-8636-c41cc78ff1e2",
   "metadata": {},
   "outputs": [
    {
     "name": "stdout",
     "output_type": "stream",
     "text": [
      "GCD of 98 and 56 is 14\n"
     ]
    }
   ],
   "source": [
    "def gcd(a, b):\n",
    "\n",
    "    if (a == 0):\n",
    "        return b\n",
    "    if (b == 0):\n",
    "        return a\n",
    "\n",
    "    if (a == b):\n",
    "        return a\n",
    "\n",
    "    if (a > b):\n",
    "        return gcd(a-b, b)\n",
    "    return gcd(a, b-a)\n",
    "\n",
    "a = 98\n",
    "b = 56\n",
    "if(gcd(a, b)):\n",
    "    print('GCD of', a, 'and', b, 'is', gcd(a, b))\n",
    "else:\n",
    "    print('not found')\n",
    "\n",
    "\n",
    "# #How the Code Works:\n",
    "# First Call (gcd(98, 56)):\n",
    "\n",
    "# a > b → 98 > 56 → The code executes gcd(98-56, 56) = gcd(42, 56).\n",
    "# Second Call (gcd(42, 56)):\n",
    "\n",
    "# b > a → 56 > 42 → The code executes gcd(42, 56-42) = gcd(42, 14).\n",
    "# Third Call (gcd(42, 14)):\n",
    "\n",
    "# a > b → 42 > 14 → The code executes gcd(42-14, 14) = gcd(28, 14).\n",
    "# Fourth Call (gcd(28, 14)):\n",
    "\n",
    "# a > b → 28 > 14 → The code executes gcd(28-14, 14) = gcd(14, 14).\n",
    "# Fifth Call (gcd(14, 14)):\n",
    "\n",
    "# a == b → The code returns 14, because if both numbers are equal, the GCD is that number.\n"
   ]
  },
  {
   "cell_type": "markdown",
   "id": "9a892816-1486-4577-b5ba-fc563b43a68a",
   "metadata": {},
   "source": [
    "# 11  star pattern 1 "
   ]
  },
  {
   "cell_type": "code",
   "execution_count": 74,
   "id": "33f5d2c9-b449-45f8-99fa-00a75fdb2c5e",
   "metadata": {},
   "outputs": [
    {
     "name": "stdout",
     "output_type": "stream",
     "text": [
      "* \n",
      "* * \n",
      "* * * \n",
      "* * * * \n",
      "* * * * * \n",
      "\n",
      "\n",
      "    * \n",
      "   * * \n",
      "  * * * \n",
      " * * * * \n",
      "* * * * * \n"
     ]
    }
   ],
   "source": [
    " def myfunc(n):\n",
    "    for i in range(0, n):\n",
    "# This loop controls how many stars (*) are printed in each row. \n",
    "#It runs from j = 0 to j = i, meaning it will print i+1 stars in each row.\n",
    "         for j in range(0, i+1): \n",
    "            print(\"* \",end=\"\")\n",
    "         print(\"\\r\")\n",
    "n = 5\n",
    "myfunc(n)\n",
    "print(\"\\n\")\n",
    "#------------------------------------------------------------------------------------------------------\n",
    "def myfunc(n):\n",
    "    k = n - 1\n",
    "    for i in range(0, n):\n",
    "        for j in range(0, k):\n",
    "            print(end=\" \")\n",
    "        k = k - 1\n",
    "        for j in range(0, i+1):\n",
    "            print(\"* \", end=\"\")\n",
    "        print(\"\\r\")\n",
    "n = 5\n",
    "myfunc(n)"
   ]
  },
  {
   "cell_type": "markdown",
   "id": "20f5523a-75c4-474f-881d-6ebe8d8bca31",
   "metadata": {},
   "source": [
    "# 12 number pattern"
   ]
  },
  {
   "cell_type": "code",
   "execution_count": 65,
   "id": "76795ab7-ba2e-40f5-893e-0ca647538090",
   "metadata": {},
   "outputs": [
    {
     "name": "stdout",
     "output_type": "stream",
     "text": [
      "1 \n",
      "1 2 \n",
      "1 2 3 \n",
      "1 2 3 4 \n",
      "1 2 3 4 5 \n",
      "\n",
      "\n",
      "1 \n",
      "2 3 \n",
      "4 5 6 \n",
      "7 8 9 10 \n",
      "11 12 13 14 15 \n"
     ]
    }
   ],
   "source": [
    "def num(n):\n",
    "    num = 1\n",
    "    for i in range(0, n):\n",
    "        num = 1\n",
    "        for j in range(0, i+1):\n",
    "            print(num, end=\" \")\n",
    "            num = num + 1\n",
    "        print(\"\\r\")\n",
    "n = 5\n",
    "num(n)\n",
    "print(\"\\n\")\n",
    "#----------------------------------------------------------------------------------\n",
    "def num(n):\n",
    "    num = 1\n",
    "    for i in range(0, n):\n",
    "        for j in range(0, i+1):\n",
    "            print(num, end=\" \")\n",
    "            num = num + 1\n",
    "        print(\"\\r\")\n",
    "n = 5\n",
    "num(n)"
   ]
  },
  {
   "cell_type": "markdown",
   "id": "c4f0f3fc-68cc-4f17-9cae-0c67f67a6ac3",
   "metadata": {},
   "source": [
    "# 13 alphabate pattern "
   ]
  },
  {
   "cell_type": "code",
   "execution_count": 72,
   "id": "3b002d5f-0c47-4fc3-95a6-57a1da3c4b8d",
   "metadata": {},
   "outputs": [
    {
     "name": "stdout",
     "output_type": "stream",
     "text": [
      "A \n",
      "B B \n",
      "C C C \n",
      "D D D D \n",
      "E E E E E \n",
      "\n",
      "\n",
      "A \n",
      "B C \n",
      "D E F \n",
      "G H I J \n",
      "K L M N O \n"
     ]
    }
   ],
   "source": [
    "# A \n",
    "# B B \n",
    "# C C C \n",
    "# D D D D \n",
    "# E E E E E \n",
    "def alphapat(n):\n",
    "    num = 65\n",
    "    for i in range(0, n):\n",
    "        for j in range(0, i+1):\n",
    "            ch = chr(num)\n",
    "            print(ch, end=\" \")\n",
    "        num = num + 1\n",
    "    \n",
    "        print(\"\\r\")\n",
    "n = 5\n",
    "alphapat(n)\n",
    "\n",
    "print(\"\\n\")\n",
    "#------------------------------------------------------------------------------------------------\n",
    "\n",
    "# A \n",
    "# B C \n",
    "# D E F \n",
    "# G H I J \n",
    "# K L M N O\n",
    "\n",
    "def contalpha(n):\n",
    "    num = 65\n",
    "    for i in range(0, n):\n",
    "        for j in range(0, i+1):\n",
    "            ch = chr(num)\n",
    "            print(ch, end=\" \")\n",
    "            num = num + 1\n",
    "        print()\n",
    "n = 5\n",
    "contalpha(n)"
   ]
  },
  {
   "cell_type": "markdown",
   "id": "96c244fa-7471-4023-b83f-a14140352716",
   "metadata": {},
   "source": [
    "# 14 python program to find random number "
   ]
  },
  {
   "cell_type": "code",
   "execution_count": 14,
   "id": "e62816de-d5c5-4260-8e97-244ef9052c86",
   "metadata": {},
   "outputs": [
    {
     "name": "stdout",
     "output_type": "stream",
     "text": [
      "Random number : 46\n"
     ]
    }
   ],
   "source": [
    "import random\n",
    "print(f\"Random number : {random.randint(1,100)}\")\n"
   ]
  },
  {
   "cell_type": "markdown",
   "id": "7455c697-8c77-433b-9167-9448357c0ee6",
   "metadata": {},
   "source": [
    "# 15 python program to display calendar"
   ]
  },
  {
   "cell_type": "code",
   "execution_count": 17,
   "id": "00b7156e-9cda-4bd2-a5fc-8767b94a2625",
   "metadata": {},
   "outputs": [
    {
     "name": "stdin",
     "output_type": "stream",
     "text": [
      "enter the year 2024\n",
      "enter the month 10\n"
     ]
    },
    {
     "name": "stdout",
     "output_type": "stream",
     "text": [
      "    October 2024\n",
      "Mo Tu We Th Fr Sa Su\n",
      "    1  2  3  4  5  6\n",
      " 7  8  9 10 11 12 13\n",
      "14 15 16 17 18 19 20\n",
      "21 22 23 24 25 26 27\n",
      "28 29 30 31\n",
      "\n"
     ]
    }
   ],
   "source": [
    "import calendar\n",
    "year=int(input(\"enter the year\"))\n",
    "month=int(input(\"enter the month\"))\n",
    "\n",
    "cal=calendar.month(year,month)\n",
    "print(cal)"
   ]
  },
  {
   "cell_type": "markdown",
   "id": "e75d2f63-eacf-4621-b3af-09bb52947f30",
   "metadata": {},
   "source": [
    "# format methods and placeholders"
   ]
  },
  {
   "cell_type": "code",
   "execution_count": 26,
   "id": "ef46b5bd-9dfb-4742-96fd-3b83bfda5c52",
   "metadata": {},
   "outputs": [],
   "source": [
    "# In Python, the `format()` method is used for string formatting, \n",
    "#allowing you to insert values into placeholders within a string. \n",
    "#It provides a flexible way to format strings by replacing placeholders (like `{}`) with specific values.\n",
    "\n",
    "# Here’s what each part means:\n",
    "\n",
    "# 1. `format()` Method:**\n",
    "# The `format()` method replaces placeholders in a string with values passed to the method. \n",
    "# The placeholders are enclosed in curly braces `{}`. \n",
    "# You can provide values directly, or through positional or keyword arguments.\n",
    "\n",
    "# ### **2. `{0}`:**\n",
    "# In the context of `\"{0}\".format(value)`, `{0}` is a **positional placeholder**. \n",
    "#The `0` refers to the position of the argument passed to the `format()` method.\n",
    "\n",
    "# - `{0}` refers to the first argument.\n",
    "# - `{1}` would refer to the second argument, and so on.\n",
    "\n",
    "# For example:\n",
    "\n",
    "# print(\"Hello, {0}!\".format(\"Siddhesh\"))\n",
    "# Hello, Siddhesh!\n",
    "\n",
    "# Here, `\"Siddhesh\"` is the first argument (position 0), so it replaces `{0}`.\n",
    "\n",
    "# 3. Positional Formatting with Multiple Arguments:**\n",
    "# You can use multiple placeholders and pass several values to `format()`:\n",
    "\n",
    "# print(\"{0} is {1} years old.\".format(\"John\", 25))\n",
    "# John is 25 years old.\n",
    "\n",
    "# - `{0}` is replaced by `\"John\"`.\n",
    "# - `{1}` is replaced by `25`.\n",
    "\n",
    "# 4. Without Numbers:**\n",
    "# If you omit the numbers inside the curly braces, \n",
    "#Python will automatically use the order in which the arguments are passed:\n",
    "\n",
    "# print(\"{} is {} years old.\".format(\"John\", 25))\n",
    "# John is 25 years old.\n",
    "\n",
    "# 5. Keyword Arguments in `format()`:**\n",
    "# You can also use keyword arguments for better readability:\n",
    "\n",
    "# print(\"{name} is {age} years old.\".format(name=\"John\", age=25))`\n",
    "# John is 25 years old.\n",
    "\n",
    "# ### Summary:\n",
    "# - `{0}` is a positional placeholder, meaning it refers to the first argument in the `format()` method.\n",
    "# - The `format()` method allows you to insert values into strings in a clean and flexible way. \n",
    "# You can use positional or keyword arguments to customize your output."
   ]
  },
  {
   "cell_type": "markdown",
   "id": "5a065cf1-231a-411d-bea5-b4e559f845d5",
   "metadata": {},
   "source": [
    "# 16 write a program to check leap year"
   ]
  },
  {
   "cell_type": "code",
   "execution_count": 23,
   "id": "d8d028e1-cce9-4e60-9e2f-03a5b8f456d6",
   "metadata": {},
   "outputs": [
    {
     "name": "stdin",
     "output_type": "stream",
     "text": [
      "enter a year 2024\n"
     ]
    },
    {
     "name": "stdout",
     "output_type": "stream",
     "text": [
      "2024 is a leap year\n"
     ]
    }
   ],
   "source": [
    "year=int(input(\"enter a year\"))\n",
    "\n",
    "#divided by 100 means century year (ending with 00)\n",
    "#century year divided by 400 is a leap year\n",
    "if (year%400==0) and (year%100==0):\n",
    "    print(\"{0} is a leap year\".format(year))\n",
    "\n",
    "#not divided by 100 means not a century year \n",
    "#divided by 4 means leap year\n",
    "elif (year%4==0) and (year%100!=0):\n",
    "    print(\"{0} is a leap year\".format(year))\n",
    "\n",
    "#if not divided by both 400( century year) and 4 (not a century year)\n",
    "# year is not a leap year \n",
    "else:\n",
    "    print(\"{0} is not a leap year\".format(year))\n"
   ]
  },
  {
   "cell_type": "markdown",
   "id": "2a8e4851-1399-4ba8-9ccb-c593e780b026",
   "metadata": {},
   "source": [
    "# 17 check if give numebr is prime number or not"
   ]
  },
  {
   "cell_type": "code",
   "execution_count": 48,
   "id": "dc730ead-d421-4907-a9a8-d2a7043a1dc8",
   "metadata": {},
   "outputs": [
    {
     "name": "stdin",
     "output_type": "stream",
     "text": [
      "enter the number 37\n"
     ]
    },
    {
     "name": "stdout",
     "output_type": "stream",
     "text": [
      "37 is a prime number\n"
     ]
    }
   ],
   "source": [
    "num=int(input(\"enter the number\"))\n",
    "flag = False #number is prime number\n",
    "if num==1:\n",
    "    print(f\"{num}, is not a prime number\")\n",
    "elif num>1:\n",
    "    for i in range(2,num):\n",
    "        if(num%2==0):\n",
    "            flag=True             # factor is found set flag to true means it is not a prime number\n",
    "            break\n",
    "        \n",
    "if (flag):\n",
    "    print(f\"{num} is not a prime number\")\n",
    "else:\n",
    "    print(f\"{num} is a prime number\")"
   ]
  },
  {
   "cell_type": "markdown",
   "id": "2734b121-0ec8-45d3-81c1-7f372dd30fe2",
   "metadata": {},
   "source": [
    "# 18 wrtie a python program to print all prime numbmers in an interval of 1-10"
   ]
  },
  {
   "cell_type": "code",
   "execution_count": 3,
   "id": "5e4f30af-feb6-4907-b344-b55206a46673",
   "metadata": {},
   "outputs": [
    {
     "name": "stdout",
     "output_type": "stream",
     "text": [
      "2\n",
      "3\n",
      "5\n",
      "7\n"
     ]
    }
   ],
   "source": [
    "for num in range(1,10+1):\n",
    "    if num>1:\n",
    "        for i in range(2,num):\n",
    "            if(num%i)==0:           # factor is found set flag to true means it is not a prime number\n",
    "                break  \n",
    "        else:\n",
    "            print(num)"
   ]
  },
  {
   "cell_type": "markdown",
   "id": "5eeabd52-5529-4863-863c-c2669e444254",
   "metadata": {},
   "source": [
    "# 19 multiplication of table"
   ]
  },
  {
   "cell_type": "code",
   "execution_count": 12,
   "id": "8d710cb5-cce0-419f-a3e7-7d540bd31e51",
   "metadata": {},
   "outputs": [
    {
     "name": "stdin",
     "output_type": "stream",
     "text": [
      "enter a number 19\n"
     ]
    },
    {
     "name": "stdout",
     "output_type": "stream",
     "text": [
      "19x1=19\n",
      "19x2=38\n",
      "19x3=57\n",
      "19x4=76\n",
      "19x5=95\n",
      "19x6=114\n",
      "19x7=133\n",
      "19x8=152\n",
      "19x9=171\n",
      "19x10=190\n"
     ]
    }
   ],
   "source": [
    "num=int(input(\"enter a number\"))\n",
    "for i in range(1,11):\n",
    "    print(f\"{num}x{i}={num*i}\")"
   ]
  },
  {
   "cell_type": "markdown",
   "id": "18a58107-6fab-4b26-978e-e1d21e58a9ea",
   "metadata": {},
   "source": [
    "# 20 find the lcm of the number "
   ]
  },
  {
   "cell_type": "raw",
   "id": "332a9544-5d31-4f39-aca6-934d484c28a7",
   "metadata": {},
   "source": [
    "The program enters a while loop that runs indefinitely (while True:).\n",
    "It checks if the current value of greater (starting from the larger of x or y) is divisible by both x and y using the condition if (greater % x == 0) and (greater % y == 0):.\n",
    "If this condition is true, the program sets lcm to the current value of greater and breaks the loop.\n",
    "If the condition is false, it increments greater by 1 and checks again."
   ]
  },
  {
   "cell_type": "code",
   "execution_count": 10,
   "id": "f89ffa72-210b-402d-a883-f09bb0f50347",
   "metadata": {},
   "outputs": [
    {
     "name": "stdin",
     "output_type": "stream",
     "text": [
      "enter a number: 8\n",
      "enter a number: 12\n"
     ]
    },
    {
     "name": "stdout",
     "output_type": "stream",
     "text": [
      "lcm of given number is : 24\n"
     ]
    }
   ],
   "source": [
    "def compute_lcm(x,y):\n",
    "    if x>y:\n",
    "        greater=x\n",
    "    else:\n",
    "        greater=y\n",
    "\n",
    "    while True:\n",
    "        if(greater%x==0)and (greater%y==0):\n",
    "            lcm=greater\n",
    "            break\n",
    "        greater+=1\n",
    "    return lcm\n",
    "\n",
    "x=int(input(\"enter a number:\"))\n",
    "y=int(input(\"enter a number:\"))\n",
    "print(\"lcm of given number is :\",compute_lcm(x,y))"
   ]
  },
  {
   "cell_type": "markdown",
   "id": "13d8d08c-f78b-4a9d-baa2-ac2b831f2227",
   "metadata": {},
   "source": [
    "# another appraoch"
   ]
  },
  {
   "cell_type": "raw",
   "id": "1ac51b5a-c9e4-4641-adf5-e408bcbe8eb1",
   "metadata": {},
   "source": [
    "Example:\n",
    "Let’s say you want to find the GCD of 48 and 18 using Euclid’s Algorithm.\n",
    "\n",
    "Initial values: a = 48, b = 18\n",
    "Since b ≠ 0, you replace a with b and b with a % b:\n",
    "a = 18, b = 48 % 18 = 12 (because 48 ÷ 18 leaves a remainder of 12)\n",
    "Again, b ≠ 0, so:\n",
    "a = 12, b = 18 % 12 = 6 (because 18 ÷ 12 leaves a remainder of 6)\n",
    "Continue the process:\n",
    "a = 6, b = 12 % 6 = 0 (because 12 ÷ 6 leaves no remainder)\n",
    "Now that b = 0, the process stops, and a = 6 is the GCD of 48 and 18.\n",
    "\n",
    "Explanation of Each Line:\n",
    "while b:: The loop runs as long as b is not zero.\n",
    "a, b = b, a % b: This line does two things:\n",
    "It assigns a the current value of b.\n",
    "It assigns b the remainder when a is divided by b (a % b).\n",
    "return a: Once b becomes zero, the loop stops, and a contains the GCD."
   ]
  },
  {
   "cell_type": "code",
   "execution_count": 15,
   "id": "9e35bda0-80f7-4cfe-acc3-327eb0ba84f5",
   "metadata": {},
   "outputs": [
    {
     "name": "stdin",
     "output_type": "stream",
     "text": [
      "enter a number: 48\n",
      "enter a number: 18\n"
     ]
    },
    {
     "name": "stdout",
     "output_type": "stream",
     "text": [
      "lcm of given number is : 144\n"
     ]
    }
   ],
   "source": [
    "def gcd(a,b):\n",
    "    while b:\n",
    "        a,b=b,a%b\n",
    "    return a \n",
    "\n",
    "def lcm(a,b):\n",
    "    return (a*b)//gcd(a,b)\n",
    "\n",
    "x=int(input(\"enter a number:\"))\n",
    "y=int(input(\"enter a number:\"))\n",
    "print(\"lcm of given number is :\",lcm(x,y))"
   ]
  },
  {
   "cell_type": "markdown",
   "id": "9d6519f8-7c67-4677-80d2-0b3d1ec2a638",
   "metadata": {},
   "source": [
    "# 21 find hcf "
   ]
  },
  {
   "cell_type": "code",
   "execution_count": 6,
   "id": "f9ee0003-718a-4009-bd49-24106e960f6e",
   "metadata": {},
   "outputs": [
    {
     "name": "stdin",
     "output_type": "stream",
     "text": [
      "enter a number: 54\n",
      "enter a number: 24\n"
     ]
    },
    {
     "name": "stdout",
     "output_type": "stream",
     "text": [
      "hcf of given number is : 6\n"
     ]
    }
   ],
   "source": [
    "def gcd(a,b):\n",
    "    while b:\n",
    "        a,b=b,a%b\n",
    "    return a \n",
    "\n",
    "x=int(input(\"enter a number:\"))\n",
    "y=int(input(\"enter a number:\"))\n",
    "print(\"hcf of given number is :\",gcd(x,y))"
   ]
  },
  {
   "cell_type": "code",
   "execution_count": 16,
   "id": "e3946223-9f83-4eae-9156-81452633b88e",
   "metadata": {},
   "outputs": [
    {
     "name": "stdin",
     "output_type": "stream",
     "text": [
      "enter a number: 54\n",
      "enter a number: 24\n"
     ]
    },
    {
     "name": "stdout",
     "output_type": "stream",
     "text": [
      "hcf of given number is : 6\n"
     ]
    }
   ],
   "source": [
    "def hcf(x,y):\n",
    "    if x<y:\n",
    "        smaller=x\n",
    "    else:\n",
    "        smaller=y\n",
    "\n",
    "    for i in range(1,smaller+1):\n",
    "        if(x%i==0)and (y%i==0):\n",
    "            hcf=i\n",
    "\n",
    "    return hcf\n",
    "\n",
    "x=int(input(\"enter a number:\"))\n",
    "y=int(input(\"enter a number:\"))\n",
    "print(\"hcf of given number is :\",hcf(x,y))"
   ]
  },
  {
   "cell_type": "markdown",
   "id": "1869b536-ff56-4b35-9646-423951ce733c",
   "metadata": {},
   "source": [
    "# 22 Write a Python Program to Convert Decimal to Binary, Octal and Hexadecima"
   ]
  },
  {
   "cell_type": "code",
   "execution_count": 13,
   "id": "d9f2cf1f-fed4-4b36-a119-6fba897ca7b7",
   "metadata": {},
   "outputs": [
    {
     "name": "stdin",
     "output_type": "stream",
     "text": [
      "enter a number: 9\n"
     ]
    },
    {
     "name": "stdout",
     "output_type": "stream",
     "text": [
      "1001\n"
     ]
    },
    {
     "name": "stdin",
     "output_type": "stream",
     "text": [
      "enter a number: 9\n"
     ]
    },
    {
     "name": "stdout",
     "output_type": "stream",
     "text": [
      "0o11\n",
      "0x9\n"
     ]
    }
   ],
   "source": [
    "num=int(input(\"enter a number:\"))\n",
    "binary=''\n",
    "while num>0:\n",
    "   rem=num%2\n",
    "   binary=str(rem)+binary\n",
    "   num=num//2\n",
    "print(binary)\n",
    "\n",
    "num1=int(input(\"enter a number:\"))\n",
    "\n",
    "print(oct(num1))\n",
    "print(hex(num1))\n"
   ]
  },
  {
   "cell_type": "markdown",
   "id": "e0ca0288-fd6a-461d-8de3-383d76e65c55",
   "metadata": {},
   "source": [
    "# 23 Write a Python Program To Find ASCII value of a character."
   ]
  },
  {
   "cell_type": "code",
   "execution_count": 19,
   "id": "dd7f8df2-b98d-4d1b-9284-583ad36bf765",
   "metadata": {},
   "outputs": [
    {
     "name": "stdin",
     "output_type": "stream",
     "text": [
      "enter a character  A\n"
     ]
    },
    {
     "name": "stdout",
     "output_type": "stream",
     "text": [
      "65\n"
     ]
    }
   ],
   "source": [
    "char=str(input(\"enter a character \"))\n",
    "print(ord(char))"
   ]
  },
  {
   "cell_type": "markdown",
   "id": "da55f453-44e3-4798-8e61-0bc4020649d1",
   "metadata": {},
   "source": [
    "# 24 factorial of a number "
   ]
  },
  {
   "cell_type": "code",
   "execution_count": 32,
   "id": "b51340fd-0a0a-4da0-9ad1-723a672c7ca3",
   "metadata": {},
   "outputs": [
    {
     "name": "stdin",
     "output_type": "stream",
     "text": [
      "enter the number 5\n"
     ]
    },
    {
     "name": "stdout",
     "output_type": "stream",
     "text": [
      "24\n"
     ]
    }
   ],
   "source": [
    "def fact(n):\n",
    "    if n<=1:\n",
    "        return n \n",
    "    else:\n",
    "        return n *fact(n-1)\n",
    "\n",
    "n=int(input(\"enter the number\"))\n",
    "print(fact(i))"
   ]
  },
  {
   "cell_type": "markdown",
   "id": "2697f7d4-21e8-468c-83ae-4a8ad7095b32",
   "metadata": {},
   "source": [
    "# 25 Write a Python Program for cube sum of first n natural numbers?"
   ]
  },
  {
   "cell_type": "code",
   "execution_count": 45,
   "id": "02b438d8-6021-4b0f-bf8b-4b07b6c7e5ae",
   "metadata": {},
   "outputs": [
    {
     "name": "stdin",
     "output_type": "stream",
     "text": [
      "enter a number 7\n"
     ]
    },
    {
     "name": "stdout",
     "output_type": "stream",
     "text": [
      "784\n"
     ]
    }
   ],
   "source": [
    "def cube_sum(n):\n",
    "    total=sum([i**3 for i in range(1,n+1)])\n",
    "    return total\n",
    "\n",
    "n=int(input(\"enter a number\"))\n",
    "total=cube_sum(n)\n",
    "print(total)"
   ]
  },
  {
   "cell_type": "markdown",
   "id": "84b0e0e3-0e8d-40ea-848e-0e75c93487ac",
   "metadata": {},
   "source": [
    "# 26 Write a Python Program to find sum of array"
   ]
  },
  {
   "cell_type": "code",
   "execution_count": 56,
   "id": "c0f9135d-db4c-4752-b32e-ed30d1183a03",
   "metadata": {},
   "outputs": [
    {
     "name": "stdout",
     "output_type": "stream",
     "text": [
      "10\n",
      "10\n"
     ]
    }
   ],
   "source": [
    "a=[1,2,3,4]\n",
    "print(sum(a))\n",
    "total=0\n",
    "for i in a: \n",
    "    total+=i\n",
    "\n",
    "print(total)"
   ]
  },
  {
   "cell_type": "markdown",
   "id": "66e0089e-7e6f-42b6-9786-3836a6e175f4",
   "metadata": {},
   "source": [
    "# 27 Write a Python Program to find largest element in an array"
   ]
  },
  {
   "cell_type": "code",
   "execution_count": null,
   "id": "51d9899c-7cbd-4629-bc42-d9b498843e92",
   "metadata": {},
   "outputs": [],
   "source": [
    "def find_largest_element(a):\n",
    "    largest=a[0]\n",
    "    for element in find_largest_element:\n",
    "        if element>find_largest_element\n",
    "            largest=element \n",
    "a=[10,20,30,40,50]\n",
    "print(find_largest_element(a))"
   ]
  },
  {
   "cell_type": "markdown",
   "id": "44722210-f9fe-4a18-b092-feeae8c1c79a",
   "metadata": {},
   "source": [
    "# 28 Write a Python Program for array rotation"
   ]
  },
  {
   "cell_type": "raw",
   "id": "a8826c4f-7e30-410d-89b5-ea3fefada92f",
   "metadata": {},
   "source": [
    "This part of the code is responsible for rotating the array by `d` positions. Let's break it down:\n",
    "\n",
    "```python\n",
    "for i in range(n):\n",
    "    rotated_arr[i] = arr[(i + d) % n]\n",
    "```\n",
    "\n",
    "### Explanation:\n",
    "\n",
    "1. **Loop through array (`for i in range(n)`):**\n",
    "   - `i` is the index variable, which takes values from `0` to `n-1` (where `n` is the length of the array).\n",
    "   - This loop goes through each index of the array `rotated_arr`.\n",
    "\n",
    "2. **Rotating Logic (`(i + d) % n`):**\n",
    "   - `(i + d)` computes the index in the original array that should move to position `i` in the rotated array. \n",
    "   - Adding `d` shifts the index by `d` positions to the right (rotation by `d` positions).\n",
    "\n",
    "3. **Modulo Operation (`% n`):**\n",
    "   - The `% n` (modulo) ensures that when the sum `(i + d)` exceeds the length of the array `n`, it wraps around to the beginning of the array.\n",
    "   - This is crucial for handling cases where the rotation causes the index to go beyond the array length.\n",
    "   - For example, in an array of length 5, if you try to access index 7, `(7 % 5)` will give you 2, bringing the index back within the bounds of the array.\n",
    "\n",
    "4. **Assign Rotated Value (`rotated_arr[i] = ...`):**\n",
    "   - The element at index `i` in `rotated_arr` is assigned the value from the original array `arr[(i + d) % n]`.\n",
    "   - This places each element from the original array in its correct new position after rotation.\n",
    "\n",
    "### Example:\n",
    "\n",
    "For `arr = [1, 2, 3, 4, 5]` and `d = 2`:\n",
    "- `n = 5` (length of the array).\n",
    "- Let's follow the loop for each `i`:\n",
    "\n",
    "   - For `i = 0`:  \n",
    "     `rotated_arr[0] = arr[(0 + 2) % 5] = arr[2] = 3`\n",
    "   \n",
    "   - For `i = 1`:  \n",
    "     `rotated_arr[1] = arr[(1 + 2) % 5] = arr[3] = 4`\n",
    "   \n",
    "   - For `i = 2`:  \n",
    "     `rotated_arr[2] = arr[(2 + 2) % 5] = arr[4] = 5`\n",
    "   \n",
    "   - For `i = 3`:  \n",
    "     `rotated_arr[3] = arr[(3 + 2) % 5] = arr[0] = 1`\n",
    "   \n",
    "   - For `i = 4`:  \n",
    "     `rotated_arr[4] = arr[(4 + 2) % 5] = arr[1] = 2`\n",
    "\n",
    "Result: The rotated array becomes `[3, 4, 5, 1, 2]`.\n",
    "\n",
    "### Summary:\n",
    "- The line `rotated_arr[i] = arr[(i + d) % n]` shifts each element of `arr` by `d` positions to the right, using modulo to wrap around the array length."
   ]
  },
  {
   "cell_type": "code",
   "execution_count": 73,
   "id": "34fd25aa-7ef5-4952-a755-f1d20707fe34",
   "metadata": {},
   "outputs": [
    {
     "name": "stdout",
     "output_type": "stream",
     "text": [
      "[3, 4, 5, 1, 2]\n"
     ]
    }
   ],
   "source": [
    "def rotated_arr(arr,d):\n",
    "    n=len(arr)\n",
    "    rotation_array=[0]*n\n",
    "    for i in range(n):\n",
    "        rotation_array[i]=arr[(i+d)%n]\n",
    "\n",
    "    return rotation_array\n",
    "\n",
    "\n",
    "arr=[1,2,3,4,5]\n",
    "d=2\n",
    "array=rotated_arr(arr,d)\n",
    "print(array)"
   ]
  },
  {
   "cell_type": "markdown",
   "id": "e4043211-b02f-4b1d-a338-86dcf090b095",
   "metadata": {},
   "source": [
    "# 29 Write a Python Program to Split the array and add the first part to the end"
   ]
  },
  {
   "cell_type": "code",
   "execution_count": 83,
   "id": "8b2fe745-3229-48a5-a71f-acc8f0d90acc",
   "metadata": {},
   "outputs": [
    {
     "name": "stdout",
     "output_type": "stream",
     "text": [
      "[4, 5, 1, 2, 3]\n"
     ]
    }
   ],
   "source": [
    "def split_array(arr,k):\n",
    "    first_array=arr[:k]\n",
    "    last_array=arr[k:]\n",
    "    result=last_array+first_array\n",
    "    return result\n",
    "\n",
    "    \n",
    "\n",
    "arr=[1,2,3,4,5]\n",
    "k=3\n",
    "print(split_array(arr,k))"
   ]
  },
  {
   "cell_type": "code",
   "execution_count": 85,
   "id": "ff5d798e-7dfb-4447-b2ba-5428a13023f2",
   "metadata": {},
   "outputs": [],
   "source": [
    "# 30 Write a Python Program to check if given array is Monotonic\n",
    "# a monotonic array is entirely non increasing and non decreasing "
   ]
  },
  {
   "cell_type": "code",
   "execution_count": 105,
   "id": "2d26be1b-231c-44ae-bb1b-83fcc87d48e9",
   "metadata": {},
   "outputs": [
    {
     "name": "stdout",
     "output_type": "stream",
     "text": [
      "the given [1, 2, 2, 3, 4] is True\n",
      "the given [3, 2, 1] is True\n",
      "the given [1, 3, 2, 4] is False\n"
     ]
    }
   ],
   "source": [
    "def ismonotonic(arr):\n",
    "    n=len(arr)\n",
    "    decreasing=True\n",
    "    increasing=True \n",
    "    for i in range(1,n-1):\n",
    "        if arr[i]>arr[i-1]:\n",
    "            decreasing=False\n",
    "        elif arr[i]<arr[i-1]:\n",
    "            increasing =False \n",
    "\n",
    "    return increasing or decreasing\n",
    "\n",
    "\n",
    "arr1=[1,2,2,3,4]\n",
    "arr2=[3,2,1]\n",
    "arr3=[1,3,2,4]\n",
    "print(f\"the given {arr1} is {ismonotonic(arr1)}\")\n",
    "print(f\"the given {arr2} is {ismonotonic(arr2)}\")\n",
    "print(f\"the given {arr3} is {ismonotonic(arr3)}\")"
   ]
  },
  {
   "cell_type": "markdown",
   "id": "d37f5f7b-d58e-4d30-b8af-648b9a9f1c44",
   "metadata": {},
   "source": [
    "# 30 Write a Python Program to Add Two Matrices"
   ]
  },
  {
   "cell_type": "markdown",
   "id": "add80fd9-40f0-4a8a-9207-f58e4f8c7b14",
   "metadata": {},
   "source": [
    "In this code:\n",
    "\n",
    "```python\n",
    "if isinstance(result_matrix, str):\n",
    "    print(result_matrix)\n",
    "```\n",
    "\n",
    "### Explanation:\n",
    "\n",
    "1. **`isinstance(result_matrix, str)`**: This checks if the variable `result_matrix` is of type `str` (a string). If `result_matrix` is a string, the condition will be `True`.\n",
    "  \n",
    "2. **`print(result_matrix)`**: If the condition is `True`, meaning `result_matrix` is a string, it prints the content of `result_matrix`.\n",
    "\n",
    "### Use Case:\n",
    "This could be helpful if a function returns different types of values based on conditions, such as a matrix or an error message. For example:\n",
    "\n",
    "```python\n",
    "def add_matrices(matrix1, matrix2):\n",
    "    if len(matrix1) != len(matrix2):\n",
    "        return \"Matrix dimensions do not match\"  # Error as a string\n",
    "    # Matrix addition logic here\n",
    "    return result_matrix  # Return the added matrix\n",
    "\n",
    "result_matrix = add_matrices(matrix1, matrix2)\n",
    "\n",
    "# Check if result_matrix is a string (indicating an error)\n",
    "if isinstance(result_matrix, str):\n",
    "    print(result_matrix)  # This will print the error message if it's a string\n",
    "else:\n",
    "    print(\"Matrix addition result:\", result_matrix)  # This will print the actual matrix if no error\n",
    "```\n",
    "\n",
    "### Summary:\n",
    "- **`isinstance(result_matrix, str)`** checks if `result_matrix` is a string (which could be an error message).\n",
    "- If `result_matrix` is a string, it prints the string (e.g., an error message)."
   ]
  },
  {
   "cell_type": "code",
   "execution_count": 134,
   "id": "9094dff9-e69a-4d72-b329-fd8d354b9846",
   "metadata": {},
   "outputs": [
    {
     "name": "stdout",
     "output_type": "stream",
     "text": [
      "[2, 4, 6]\n",
      "[8, 10, 12]\n",
      "[14, 16, 18]\n"
     ]
    }
   ],
   "source": [
    "def add(matrix1,matrix2):\n",
    "    if len(matrix1)!=len(matrix2) or len(matrix1[0])!=len(matrix2[0]):\n",
    "        return \"enter proper dimensions\"\n",
    "    else :\n",
    "        result=[]\n",
    "        for i in range(len(matrix1)):\n",
    "            row=[]\n",
    "            for j in range(len(matrix1[0])):\n",
    "                row.append(matrix1[i][j]+matrix2[i][j])\n",
    "            result.append(row)\n",
    "    return result\n",
    "\n",
    "matrix1=[[1,2,3],[4,5,6],[7,8,9]]\n",
    "matrix2=[[1,2,3],[4,5,6],[7,8,9]]\n",
    "matrix_addition=add(matrix1,matrix2)\n",
    "if isinstance(matrix_addition,str):\n",
    "    print(matrix_addition)\n",
    "for i in matrix_addition:\n",
    "    print(i)"
   ]
  },
  {
   "cell_type": "markdown",
   "id": "dc8620b7-175e-4e39-a1b8-a44d9eb7fafe",
   "metadata": {},
   "source": [
    "# 31 reversing a list"
   ]
  },
  {
   "cell_type": "code",
   "execution_count": 4,
   "id": "601bfed6-5dd2-47d5-99ab-5978facf903a",
   "metadata": {},
   "outputs": [
    {
     "data": {
      "text/plain": [
       "[4, 3, 2, 1]"
      ]
     },
     "execution_count": 4,
     "metadata": {},
     "output_type": "execute_result"
    }
   ],
   "source": [
    "lst=[1,2,3,4]\n",
    "lst[::-1]"
   ]
  },
  {
   "cell_type": "markdown",
   "id": "809c7845-de7c-47e3-9b01-c8303f8c8deb",
   "metadata": {},
   "source": [
    "# 32 checking if string is palindrom or not "
   ]
  },
  {
   "cell_type": "code",
   "execution_count": 13,
   "id": "8cbfaa26-c570-4107-82d0-28852998261c",
   "metadata": {},
   "outputs": [
    {
     "name": "stdout",
     "output_type": "stream",
     "text": [
      "True\n"
     ]
    }
   ],
   "source": [
    "s=\"madam\"\n",
    "print(s==s[::-1])"
   ]
  },
  {
   "cell_type": "markdown",
   "id": "767925e1-0342-4f86-8e09-efd5ddb4dcc2",
   "metadata": {},
   "source": [
    "# 33 count vowels in a string "
   ]
  },
  {
   "cell_type": "code",
   "execution_count": 19,
   "id": "e9d0fc41-5c03-4aa5-abee-bf9a655af883",
   "metadata": {},
   "outputs": [
    {
     "name": "stdout",
     "output_type": "stream",
     "text": [
      "2\n"
     ]
    }
   ],
   "source": [
    "s=\"hello\"\n",
    "print(sum(1 for c in s if c in \"aeiou\"))"
   ]
  },
  {
   "cell_type": "markdown",
   "id": "ce529183-9269-46de-8866-dc0e7ce2c89c",
   "metadata": {},
   "source": [
    "# 34 Calculate factorial"
   ]
  },
  {
   "cell_type": "code",
   "execution_count": 27,
   "id": "f828f62b-4b26-4875-bc25-af263829bf31",
   "metadata": {},
   "outputs": [
    {
     "name": "stdout",
     "output_type": "stream",
     "text": [
      "120\n"
     ]
    }
   ],
   "source": [
    "import math \n",
    "n=5\n",
    "print(math.factorial(n))"
   ]
  },
  {
   "cell_type": "markdown",
   "id": "decb0bd2-a5d6-4d46-a6ba-511e31915e66",
   "metadata": {},
   "source": [
    "# 35 Replace null value with mean "
   ]
  },
  {
   "cell_type": "code",
   "execution_count": 51,
   "id": "099e3cb2-7c0c-4630-b0a3-3fbbb40755b4",
   "metadata": {},
   "outputs": [],
   "source": [
    "import pandas as pd\n",
    "df=pd.DataFrame({\"A\":[1,None,2],\"B\":[2,None,3]})\n",
    "df\n",
    "df.fillna(df[\"A\"].mean(),inplace=True)"
   ]
  },
  {
   "cell_type": "code",
   "execution_count": 55,
   "id": "7fb7fa84-6b9a-4d02-b200-53718159b85d",
   "metadata": {},
   "outputs": [
    {
     "data": {
      "text/html": [
       "<div>\n",
       "<style scoped>\n",
       "    .dataframe tbody tr th:only-of-type {\n",
       "        vertical-align: middle;\n",
       "    }\n",
       "\n",
       "    .dataframe tbody tr th {\n",
       "        vertical-align: top;\n",
       "    }\n",
       "\n",
       "    .dataframe thead th {\n",
       "        text-align: right;\n",
       "    }\n",
       "</style>\n",
       "<table border=\"1\" class=\"dataframe\">\n",
       "  <thead>\n",
       "    <tr style=\"text-align: right;\">\n",
       "      <th></th>\n",
       "      <th>A</th>\n",
       "      <th>B</th>\n",
       "    </tr>\n",
       "  </thead>\n",
       "  <tbody>\n",
       "    <tr>\n",
       "      <th>0</th>\n",
       "      <td>1.0</td>\n",
       "      <td>2.0</td>\n",
       "    </tr>\n",
       "    <tr>\n",
       "      <th>1</th>\n",
       "      <td>1.5</td>\n",
       "      <td>1.5</td>\n",
       "    </tr>\n",
       "    <tr>\n",
       "      <th>2</th>\n",
       "      <td>2.0</td>\n",
       "      <td>3.0</td>\n",
       "    </tr>\n",
       "  </tbody>\n",
       "</table>\n",
       "</div>"
      ],
      "text/plain": [
       "     A    B\n",
       "0  1.0  2.0\n",
       "1  1.5  1.5\n",
       "2  2.0  3.0"
      ]
     },
     "execution_count": 55,
     "metadata": {},
     "output_type": "execute_result"
    }
   ],
   "source": [
    "df[\"A\"].astype(int)\n",
    "df"
   ]
  },
  {
   "cell_type": "code",
   "execution_count": 59,
   "id": "407e3076-402e-41d2-adce-2f8595bb3ce1",
   "metadata": {},
   "outputs": [
    {
     "data": {
      "text/html": [
       "<div>\n",
       "<style scoped>\n",
       "    .dataframe tbody tr th:only-of-type {\n",
       "        vertical-align: middle;\n",
       "    }\n",
       "\n",
       "    .dataframe tbody tr th {\n",
       "        vertical-align: top;\n",
       "    }\n",
       "\n",
       "    .dataframe thead th {\n",
       "        text-align: right;\n",
       "    }\n",
       "</style>\n",
       "<table border=\"1\" class=\"dataframe\">\n",
       "  <thead>\n",
       "    <tr style=\"text-align: right;\">\n",
       "      <th></th>\n",
       "      <th>new</th>\n",
       "    </tr>\n",
       "  </thead>\n",
       "  <tbody>\n",
       "    <tr>\n",
       "      <th>0</th>\n",
       "      <td>1</td>\n",
       "    </tr>\n",
       "    <tr>\n",
       "      <th>1</th>\n",
       "      <td>2</td>\n",
       "    </tr>\n",
       "  </tbody>\n",
       "</table>\n",
       "</div>"
      ],
      "text/plain": [
       "   new\n",
       "0    1\n",
       "1    2"
      ]
     },
     "execution_count": 59,
     "metadata": {},
     "output_type": "execute_result"
    }
   ],
   "source": [
    "df=pd.DataFrame({\"old\":[1,2]})\n",
    "df.rename(columns={\"old\":\"new\"},inplace=True)\n",
    "df"
   ]
  },
  {
   "cell_type": "code",
   "execution_count": 73,
   "id": "859fb35e-1dd7-4ec9-8d0c-ed85c8543192",
   "metadata": {},
   "outputs": [
    {
     "data": {
      "text/html": [
       "<div>\n",
       "<style scoped>\n",
       "    .dataframe tbody tr th:only-of-type {\n",
       "        vertical-align: middle;\n",
       "    }\n",
       "\n",
       "    .dataframe tbody tr th {\n",
       "        vertical-align: top;\n",
       "    }\n",
       "\n",
       "    .dataframe thead th {\n",
       "        text-align: right;\n",
       "    }\n",
       "</style>\n",
       "<table border=\"1\" class=\"dataframe\">\n",
       "  <thead>\n",
       "    <tr style=\"text-align: right;\">\n",
       "      <th></th>\n",
       "      <th>A</th>\n",
       "    </tr>\n",
       "  </thead>\n",
       "  <tbody>\n",
       "    <tr>\n",
       "      <th>0</th>\n",
       "      <td>1</td>\n",
       "    </tr>\n",
       "    <tr>\n",
       "      <th>1</th>\n",
       "      <td>2</td>\n",
       "    </tr>\n",
       "    <tr>\n",
       "      <th>2</th>\n",
       "      <td>4</td>\n",
       "    </tr>\n",
       "    <tr>\n",
       "      <th>3</th>\n",
       "      <td>5</td>\n",
       "    </tr>\n",
       "    <tr>\n",
       "      <th>4</th>\n",
       "      <td>6</td>\n",
       "    </tr>\n",
       "  </tbody>\n",
       "</table>\n",
       "</div>"
      ],
      "text/plain": [
       "   A\n",
       "0  1\n",
       "1  2\n",
       "2  4\n",
       "3  5\n",
       "4  6"
      ]
     },
     "execution_count": 73,
     "metadata": {},
     "output_type": "execute_result"
    }
   ],
   "source": [
    "import pandas as pd\n",
    "\n",
    "# Create the DataFrame\n",
    "df = pd.DataFrame({\"A\": [1, 2, 4, 5, 6]})\n",
    "\n",
    "# Calculate Q1, Q3, and IQR\n",
    "Q1 = df[\"A\"].quantile(0.25)  # 25th percentile\n",
    "Q3 = df[\"A\"].quantile(0.75)  # 75th percentile\n",
    "IQR = Q3 - Q1                # Interquartile Range\n",
    "\n",
    "# Filter outliers using IQR method\n",
    "df = df[~((df[\"A\"] < (Q1 - 1.5 * IQR)) | (df[\"A\"] > (Q3 + 1.5 * IQR)))]\n",
    "\n",
    "df"
   ]
  },
  {
   "cell_type": "code",
   "execution_count": 75,
   "id": "c6c380c3-3585-48b8-8db4-02fabc3635df",
   "metadata": {},
   "outputs": [
    {
     "data": {
      "image/png": "[encoded data removed]",
      "text/plain": [
       "<Figure size 640x480 with 1 Axes>"
      ]
     },
     "metadata": {},
     "output_type": "display_data"
    }
   ],
   "source": [
    "import matplotlib.pyplot as plt\n",
    "plt.bar(['A', 'B'], [10, 20])\n",
    "plt.show()"
   ]
  },
  {
   "cell_type": "code",
   "execution_count": 77,
   "id": "f51c2d76-9f98-44ef-898d-24b6bb08161b",
   "metadata": {},
   "outputs": [
    {
     "data": {
      "image/png": "[encoded data removed]",
      "text/plain": [
       "<Figure size 640x480 with 1 Axes>"
      ]
     },
     "metadata": {},
     "output_type": "display_data"
    }
   ],
   "source": [
    "plt.hist([1,2,2,3,3,3,3])\n",
    "plt.show()"
   ]
  },
  {
   "cell_type": "code",
   "execution_count": 79,
   "id": "447539dc-8968-458f-8a41-04613f1e2e7d",
   "metadata": {},
   "outputs": [
    {
     "data": {
      "image/png": "[encoded data removed]",
      "text/plain": [
       "<Figure size 640x480 with 1 Axes>"
      ]
     },
     "metadata": {},
     "output_type": "display_data"
    }
   ],
   "source": [
    "plt.plot([1,2,3],[20,30,40])\n",
    "plt.show()"
   ]
  },
  {
   "cell_type": "code",
   "execution_count": 85,
   "id": "109ff3c9-77e2-42ff-8092-756401093d36",
   "metadata": {},
   "outputs": [
    {
     "data": {
      "text/plain": [
       "<Axes: >"
      ]
     },
     "execution_count": 85,
     "metadata": {},
     "output_type": "execute_result"
    },
    {
     "data": {
      "image/png": "[encoded data removed]",
      "text/plain": [
       "<Figure size 640x480 with 1 Axes>"
      ]
     },
     "metadata": {},
     "output_type": "display_data"
    }
   ],
   "source": [
    "import seaborn as sns\n",
    "sns.scatterplot(x=[1,2],y=[3,4])"
   ]
  },
  {
   "cell_type": "code",
   "execution_count": 89,
   "id": "40d130c2-f6d1-4ade-9426-e11e85cafdce",
   "metadata": {},
   "outputs": [
    {
     "data": {
      "text/plain": [
       "<Axes: >"
      ]
     },
     "execution_count": 89,
     "metadata": {},
     "output_type": "execute_result"
    },
    {
     "data": {
      "image/png": "[encoded data removed]",
      "text/plain": [
       "<Figure size 640x480 with 2 Axes>"
      ]
     },
     "metadata": {},
     "output_type": "display_data"
    }
   ],
   "source": [
    "sns.heatmap(df.corr(),annot=True)"
   ]
  },
  {
   "cell_type": "code",
   "execution_count": 93,
   "id": "d308d295-5e81-4b3b-9f70-3c7fd96e834b",
   "metadata": {},
   "outputs": [
    {
     "data": {
      "text/plain": [
       "[1, 2, 3, 4, 5]"
      ]
     },
     "execution_count": 93,
     "metadata": {},
     "output_type": "execute_result"
    }
   ],
   "source": [
    "# remove duplicates from list \n",
    "a=[1,1,2,2,3,3,4,4,5,5,]\n",
    "a=list(set(a))\n",
    "a"
   ]
  }
 ],
 "metadata": {
  "kernelspec": {
   "display_name": "Python 3 (ipykernel)",
   "language": "python",
   "name": "python3"
  },
  "language_info": {
   "codemirror_mode": {
    "name": "ipython",
    "version": 3
   },
   "file_extension": ".py",
   "mimetype": "text/x-python",
   "name": "python",
   "nbconvert_exporter": "python",
   "pygments_lexer": "ipython3",
   "version": "3.12.4"
  }
 },
 "nbformat": 4,
 "nbformat_minor": 5
}
